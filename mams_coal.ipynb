{
  "nbformat": 4,
  "nbformat_minor": 0,
  "metadata": {
    "colab": {
      "name": "HiMCM.ipynb",
      "provenance": [],
      "authorship_tag": "ABX9TyPUnJUFLouvI3Ki5XdTuf7X",
      "include_colab_link": true
    },
    "kernelspec": {
      "name": "python3",
      "display_name": "Python 3"
    },
    "language_info": {
      "name": "python"
    }
  },
  "cells": [
    {
      "cell_type": "markdown",
      "metadata": {
        "id": "view-in-github",
        "colab_type": "text"
      },
      "source": [
        "<a href=\"https://colab.research.google.com/github/WaiWasabi/math-modeling/blob/main/mams_coal.ipynb\" target=\"_parent\"><img src=\"https://colab.research.google.com/assets/colab-badge.svg\" alt=\"Open In Colab\"/></a>"
      ]
    },
    {
      "cell_type": "code",
      "metadata": {
        "id": "Eo20e3LnZTkY"
      },
      "source": [
        "class Component: # default settings for Train class.\n",
        "  def __init__(self, step):\n",
        "    self.state = 0\n",
        "    self.fee = 15000 / step  # fee per step\n",
        "    self.increment = 1\n",
        "    self.capacity = 3 * step\n",
        "  \n",
        "  def update(self):\n",
        "    self.state += self.increment\n",
        "  \n",
        "  def terminate(self):\n",
        "    return self.state >= self.capacity\n",
        "\n",
        "  def isEmpty(self):\n",
        "    return self.state < 4\n",
        "\n",
        "  def getCurrFee(self):\n",
        "    return 0\n",
        "\n",
        "class Train(Component):\n",
        "  def __init__(self, step):\n",
        "    super().__init__(step)\n",
        "\n",
        "class HCTrain(Train):\n",
        "  def __init__(self, step):\n",
        "    super().__init__(step)\n",
        "    self.capacity *= 2\n",
        "    self.fee = 25000 / step\n",
        "\n",
        "class Tipple(Component):\n",
        "  def __init__(self, step, num=1):\n",
        "    fees = [9000, 12000, 12000]\n",
        "    super().__init__(step)\n",
        "    self.capacity = 18 * step # scaled to real numbers\n",
        "    self.state = self.capacity\n",
        "    self.fee = sum(fees[:num]) / step\n",
        "    self.increment = 3 * num\n",
        "  \n",
        "  def terminate(self):\n",
        "    return self.state >= 1\n",
        "\n",
        "  def update(self):\n",
        "    self.state =  min(self.capacity, self.state + self.increment)\n",
        "\n",
        "  def getCurrFee(self):\n",
        "    return self.fee"
      ],
      "execution_count": null,
      "outputs": []
    },
    {
      "cell_type": "code",
      "metadata": {
        "id": "UYcHQMBiJ80t"
      },
      "source": [
        "import numpy as np\n",
        "\n",
        "class Scheduler:\n",
        "  def __init__(self, std_arrivals, hc_arrival=None, period=15, step=1, num=2):\n",
        "    self.step = step\n",
        "    self.meta = self.getMetadata(std_arrivals, hc_arrival, period)\n",
        "    self.arrivals = iter(self.meta)\n",
        "    self.demurrage, self.loading_fee, self.current, self.q = 0, 0, None, []\n",
        "    self.tipple = Tipple(step, num)\n",
        "    watch = next(self.arrivals)\n",
        "    for t in range(period*step + 24):\n",
        "      while t == watch[0]:  # add all arriving trains to the queue\n",
        "          self.addTrain(watch[1], step)\n",
        "          try:\n",
        "            watch = next(self.arrivals)\n",
        "          except:\n",
        "            break\n",
        "      self.update()  # update state of system\n",
        "      self.loading_fee += self.current.getCurrFee()\n",
        "      self.demurrage += sum([train.fee for train in self.q])\n",
        "      if self.current.terminate():\n",
        "        self.current = None\n",
        "\n",
        "  def addTrain(self, value, step):\n",
        "    if value:\n",
        "      self.q.append(HCTrain(step))\n",
        "    else:\n",
        "      self.q.append(Train(step))\n",
        "\n",
        "  def update(self): \n",
        "    if self.current == None and len(self.q) != 0:\n",
        "      self.current = self.q.pop(0)\n",
        "    \n",
        "    if self.tipple.isEmpty() and (type(self.current) == Train or type(self.current) == HCTrain):\n",
        "      self.q.insert(0, self.current)\n",
        "      self.current = None\n",
        "\n",
        "    if self.current is None:\n",
        "      self.current = self.tipple\n",
        "\n",
        "    self.current.update()\n",
        "    if self.current != self.tipple:  # this is okay because current is always either tipple or train\n",
        "      self.tipple.state -= 4\n",
        "\n",
        "  def toHours(self, x):\n",
        "    return x/self.step\n",
        "\n",
        "  def toSteps(self, x):\n",
        "    return x*self.step\n",
        "  \n",
        "  def getMetadata(self, std_arrivals, hc_arrival, period):\n",
        "    arrivals = list(zip(np.multiply(period, std_arrivals), len(std_arrivals)*[0]))\n",
        "    if hc_arrival is not None:\n",
        "      arrivals.append([hc_arrival * self.toSteps(2) + self.toSteps(6), 1])\n",
        "    x = np.array(arrivals)\n",
        "    return np.rint(x[x[:,0].argsort()])"
      ],
      "execution_count": null,
      "outputs": []
    },
    {
      "cell_type": "code",
      "metadata": {
        "id": "qjb2nwSFq1wx"
      },
      "source": [
        "thursdays = []  # demurrage (loading fee constant)\n",
        "stuff = []\n",
        "for i in range(10000):\n",
        "  std = np.random.random(3)\n",
        "  hc = np.random.random(1)[0]\n",
        "  s = Scheduler(std, hc, num=2)\n",
        "  thursdays.append(s.demurrage)\n",
        "  if s.demurrage < 150000:\n",
        "    stuff.append(s)"
      ],
      "execution_count": null,
      "outputs": []
    },
    {
      "cell_type": "code",
      "metadata": {
        "colab": {
          "base_uri": "https://localhost:8080/",
          "height": 298
        },
        "id": "uEdl1dLdjrek",
        "outputId": "030f1e8f-32f6-4987-d2a7-0057bde7a5c0"
      },
      "source": [
        "import matplotlib.pyplot as plt\n",
        "\n",
        "plt.hist(thursdays, bins=30)\n",
        "plt.show()\n",
        "\n",
        "print(\"\\nminimum: \", min(thursdays))"
      ],
      "execution_count": null,
      "outputs": [
        {
          "output_type": "display_data",
          "data": {
            "image/png": "[encoded data removed]",
            "text/plain": [
              "<Figure size 432x288 with 1 Axes>"
            ]
          },
          "metadata": {
            "needs_background": "light"
          }
        },
        {
          "output_type": "stream",
          "name": "stdout",
          "text": [
            "\n",
            "minimum:  100000.0\n"
          ]
        }
      ]
    },
    {
      "cell_type": "code",
      "metadata": {
        "colab": {
          "base_uri": "https://localhost:8080/"
        },
        "id": "4lDZdvWj7hMe",
        "outputId": "3970683e-fa0b-435e-e95d-affbb9d44d64"
      },
      "source": [
        "import math\n",
        "print(\"monte carlo average:\", (sum(thursdays)/len(thursdays)))\n",
        "print(\"% improvement:\", (sum(thursdays)/len(thursdays)-100000)/(sum(thursdays)/len(thursdays)) * 100)"
      ],
      "execution_count": null,
      "outputs": [
        {
          "output_type": "stream",
          "name": "stdout",
          "text": [
            "monte carlo average: 369047.5\n",
            "% improvement: 72.90321706555389\n"
          ]
        }
      ]
    },
    {
      "cell_type": "code",
      "metadata": {
        "id": "-gw99ktrjhX2"
      },
      "source": [
        "for i in range(10000):\n",
        "  for i in range(7):\n",
        "    std = np.random.random(3)\n",
        "    hc = None if i != 3 else np.random.random(1)[0]\n",
        "    s = Scheduler(std, hc)\n",
        "    thursdays.append(s.demurrage)"
      ],
      "execution_count": null,
      "outputs": []
    },
    {
      "cell_type": "code",
      "metadata": {
        "colab": {
          "base_uri": "https://localhost:8080/"
        },
        "id": "sGTRoVBT6sJ5",
        "outputId": "23db6a45-c3e5-4e4e-905b-9682b78b5f05"
      },
      "source": [
        "x = Scheduler([0, 1, 1], 0, num=2)\n",
        "x.demurrage"
      ],
      "execution_count": null,
      "outputs": [
        {
          "output_type": "execute_result",
          "data": {
            "text/plain": [
              "100000.0"
            ]
          },
          "metadata": {},
          "execution_count": 27
        }
      ]
    }
  ]
}