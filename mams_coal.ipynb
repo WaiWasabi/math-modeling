{
  "nbformat": 4,
  "nbformat_minor": 0,
  "metadata": {
    "colab": {
      "name": "HiMCM.ipynb",
      "provenance": [],
      "authorship_tag": "ABX9TyP8INYl6yyNYr9Hh6oFr85C",
      "include_colab_link": true
    },
    "kernelspec": {
      "name": "python3",
      "display_name": "Python 3"
    },
    "language_info": {
      "name": "python"
    }
  },
  "cells": [
    {
      "cell_type": "markdown",
      "metadata": {
        "id": "view-in-github",
        "colab_type": "text"
      },
      "source": [
        "<a href=\"https://colab.research.google.com/github/WaiWasabi/math-modeling/blob/main/mams_coal.ipynb\" target=\"_parent\"><img src=\"https://colab.research.google.com/assets/colab-badge.svg\" alt=\"Open In Colab\"/></a>"
      ]
    },
    {
      "cell_type": "markdown",
      "metadata": {
        "id": "XxvTUVrFMt_G"
      },
      "source": [
        "# Program Overview\n",
        "\n",
        "The simulation employs an object-oriented method which formulates the components of the problem as subclasses of the Component \"interface\". Each subclass (train, high capacity train, and tipple) have an update function, a terminal condition, and vars {state, fee, capacity, increment}. The Scheduler class effectively iterates over time, \"step,\" instantiating new objects when necessary and keeping track of all fees.\n",
        "\n",
        "# How to Use It?\n",
        "\n",
        "Run the first couple of cells.\n",
        "\n",
        "The Scheduler class can be instantiated with the call Scheduler(std_arrivals, hc_arrival=None, period=15, step=1, num=2). \n",
        "- std_arrivals -> list of values between 0 and 1 representing when the repective train arrives at the station within the provided time window.\n",
        "- hc_arrival -> a value between 0 and 1 representing the arrival of the high capacity train within the allowed time window, if specified.\n",
        "- period -> the time window\n",
        "- step -> amount of times the program updates per hour. Increasing this number gives better precision and is a more accurate model of continuous time.\n",
        "- num -> number of crews employed in the operation (must be constant throughout workday in current model)."
      ]
    },
    {
      "cell_type": "code",
      "metadata": {
        "id": "Eo20e3LnZTkY"
      },
      "source": [
        "class Component: # default settings for Train class.\n",
        "  def __init__(self, step):\n",
        "    self.state = 0\n",
        "    self.fee = 15000 / step  # fee per step\n",
        "    self.increment = 1\n",
        "    self.capacity = 3 * step\n",
        "  \n",
        "  def update(self):\n",
        "    self.state += self.increment\n",
        "  \n",
        "  def terminate(self):\n",
        "    return self.state >= self.capacity\n",
        "\n",
        "  def isEmpty(self):\n",
        "    return self.state < 4\n",
        "\n",
        "  def getCurrFee(self):\n",
        "    return 0\n",
        "\n",
        "class Train(Component):\n",
        "  def __init__(self, step):\n",
        "    super().__init__(step)\n",
        "\n",
        "class HCTrain(Train):\n",
        "  def __init__(self, step):\n",
        "    super().__init__(step)\n",
        "    self.capacity *= 2\n",
        "    self.fee = 25000 / step\n",
        "\n",
        "class Tipple(Component):\n",
        "  def __init__(self, step, num=1):\n",
        "    fees = [9000, 12000, 12000]\n",
        "    super().__init__(step)\n",
        "    self.capacity = 18 * step # scaled to real numbers\n",
        "    self.state = self.capacity\n",
        "    self.fee = sum(fees[:num]) / step\n",
        "    self.increment = 3 * num\n",
        "  \n",
        "  def terminate(self):\n",
        "    return self.state >= 1\n",
        "\n",
        "  def update(self):\n",
        "    self.state =  min(self.capacity, self.state + self.increment)\n",
        "\n",
        "  def getCurrFee(self):\n",
        "    return self.fee"
      ],
      "execution_count": 2,
      "outputs": []
    },
    {
      "cell_type": "code",
      "metadata": {
        "id": "UYcHQMBiJ80t"
      },
      "source": [
        "import numpy as np\n",
        "\n",
        "class Scheduler:\n",
        "  def __init__(self, std_arrivals, hc_arrival=None, period=15, step=1, num=2):\n",
        "    self.step = step\n",
        "    self.meta = self.getMetadata(std_arrivals, hc_arrival, period)\n",
        "    self.arrivals = iter(self.meta)\n",
        "    self.demurrage, self.loading_fee, self.current, self.q = 0, 0, None, []\n",
        "    self.tipple = Tipple(step, num)\n",
        "    watch = next(self.arrivals)\n",
        "    for t in range(period*step + 24):\n",
        "      while t == watch[0]:  # add all arriving trains to the queue\n",
        "          self.addTrain(watch[1], step)\n",
        "          watch = next(self.arrivals, (-1, -1))  # (-1, -1) default case for iter end\n",
        "      self.update()  # update state of system\n",
        "      self.loading_fee += self.current.getCurrFee()\n",
        "      self.demurrage += sum([train.fee for train in self.q])\n",
        "      self.current = None if self.current.terminate() else self.current\n",
        "\n",
        "  def addTrain(self, value, step):\n",
        "    classes = [Train, HCTrain]\n",
        "    self.q.append(classes[int(value)](step))\n",
        "\n",
        "  def update(self):  # casework\n",
        "    if self.current == None and len(self.q) != 0:\n",
        "      self.current = self.q.pop(0)\n",
        "    if self.tipple.isEmpty() and (type(self.current) == Train or type(self.current) == HCTrain):\n",
        "      self.q.insert(0, self.current)\n",
        "      self.current = None\n",
        "    if self.current is None:\n",
        "      self.current = self.tipple\n",
        "    self.current.update()\n",
        "    if self.current != self.tipple:  # this is okay because current is always either tipple or train\n",
        "      self.tipple.state -= 4\n",
        "\n",
        "  def toHours(self, x):\n",
        "    return x/self.step\n",
        "\n",
        "  def toSteps(self, x):\n",
        "    return x*self.step\n",
        "  \n",
        "  def getMetadata(self, std_arrivals, hc_arrival, period):\n",
        "    arrivals = list(zip(np.multiply(period, std_arrivals), len(std_arrivals)*[0]))\n",
        "    if hc_arrival is not None:\n",
        "      arrivals.append([hc_arrival * self.toSteps(2) + self.toSteps(6), 1])\n",
        "    x = np.array(arrivals)\n",
        "    return np.rint(x[x[:,0].argsort()])"
      ],
      "execution_count": 5,
      "outputs": []
    },
    {
      "cell_type": "code",
      "metadata": {
        "id": "qjb2nwSFq1wx"
      },
      "source": [
        "thursdays = []  # demurrage (loading fee constant)\n",
        "stuff = []\n",
        "for i in range(10000):\n",
        "  std = np.random.random(3)\n",
        "  hc = np.random.random(1)[0]\n",
        "  s = Scheduler(std, hc, num=2)\n",
        "  thursdays.append(s.demurrage)\n",
        "  if s.demurrage < 150000:\n",
        "    stuff.append(s)"
      ],
      "execution_count": 6,
      "outputs": []
    },
    {
      "cell_type": "code",
      "metadata": {
        "colab": {
          "base_uri": "https://localhost:8080/",
          "height": 299
        },
        "id": "uEdl1dLdjrek",
        "outputId": "1c6fd598-b718-4d48-dd0d-7e6bec22f41e"
      },
      "source": [
        "import matplotlib.pyplot as plt\n",
        "\n",
        "plt.hist(thursdays, bins=30)\n",
        "plt.show()\n",
        "\n",
        "print(\"\\nminimum: \", min(thursdays))"
      ],
      "execution_count": 7,
      "outputs": [
        {
          "output_type": "display_data",
          "data": {
            "image/png": "[encoded data removed]",
            "text/plain": [
              "<Figure size 432x288 with 1 Axes>"
            ]
          },
          "metadata": {
            "needs_background": "light"
          }
        },
        {
          "output_type": "stream",
          "name": "stdout",
          "text": [
            "\n",
            "minimum:  100000.0\n"
          ]
        }
      ]
    },
    {
      "cell_type": "code",
      "metadata": {
        "colab": {
          "base_uri": "https://localhost:8080/"
        },
        "id": "4lDZdvWj7hMe",
        "outputId": "e65be13a-31db-43e6-f82c-c5757e27f23d"
      },
      "source": [
        "import math\n",
        "print(\"monte carlo average:\", (sum(thursdays)/len(thursdays)))\n",
        "print(\"% improvement:\", (sum(thursdays)/len(thursdays)-100000)/(sum(thursdays)/len(thursdays)) * 100)"
      ],
      "execution_count": 8,
      "outputs": [
        {
          "output_type": "stream",
          "name": "stdout",
          "text": [
            "monte carlo average: 366314.5\n",
            "% improvement: 72.70105332985727\n"
          ]
        }
      ]
    },
    {
      "cell_type": "code",
      "metadata": {
        "colab": {
          "base_uri": "https://localhost:8080/"
        },
        "id": "sGTRoVBT6sJ5",
        "outputId": "23db6a45-c3e5-4e4e-905b-9682b78b5f05"
      },
      "source": [
        "x = Scheduler([0, 1, 1], 0, num=2)\n",
        "x.demurrage"
      ],
      "execution_count": null,
      "outputs": [
        {
          "output_type": "execute_result",
          "data": {
            "text/plain": [
              "100000.0"
            ]
          },
          "metadata": {},
          "execution_count": 27
        }
      ]
    }
  ]
}